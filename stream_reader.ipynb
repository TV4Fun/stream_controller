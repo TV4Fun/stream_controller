{
 "cells": [
  {
   "cell_type": "code",
   "execution_count": 2,
   "metadata": {},
   "outputs": [],
   "source": [
    "import serial"
   ]
  },
  {
   "cell_type": "code",
   "execution_count": 3,
   "metadata": {},
   "outputs": [],
   "source": [
    "ser = serial.Serial(port=\"COM3\", baudrate=115200, bytesize=serial.EIGHTBITS, parity=serial.PARITY_NONE, stopbits=serial.STOPBITS_ONE)"
   ]
  },
  {
   "cell_type": "code",
   "execution_count": 59,
   "metadata": {},
   "outputs": [],
   "source": [
    "ser.close()\n",
    "ser.open()"
   ]
  },
  {
   "cell_type": "code",
   "execution_count": 51,
   "metadata": {},
   "outputs": [],
   "source": [
    "from collections import namedtuple\n",
    "\n",
    "Datapoint = namedtuple('Datapoint', ('update_time', 'delta_t', 'valve_motion_state', 'water_level', 'water_level_reading',\n",
    "                                    'i2', 'i', 'error', 'd', 'd2', 'activation', 'to_move'))"
   ]
  },
  {
   "cell_type": "code",
   "execution_count": 52,
   "metadata": {},
   "outputs": [],
   "source": [
    "import struct\n",
    "\n",
    "decoder = struct.Struct('<2LhB7fl')"
   ]
  },
  {
   "cell_type": "code",
   "execution_count": 55,
   "metadata": {},
   "outputs": [],
   "source": [
    "def iter_readings():\n",
    "    while ser.is_open:\n",
    "        ser.read_until(b'\\xDE\\xAD\\xBE\\xEF')\n",
    "        data = ser.read(43)\n",
    "        unpacked_data = decoder.unpack(data)\n",
    "        yield Datapoint(*unpacked_data)\n",
    "        "
   ]
  },
  {
   "cell_type": "code",
   "execution_count": 9,
   "metadata": {},
   "outputs": [],
   "source": [
    "import pandas as pd"
   ]
  },
  {
   "cell_type": "code",
   "execution_count": 41,
   "metadata": {},
   "outputs": [
    {
     "data": {
      "text/plain": [
       "158.0097051827213"
      ]
     },
     "execution_count": 41,
     "metadata": {},
     "output_type": "execute_result"
    }
   ],
   "source": [
    "0.9 ** (26 / 1000) * 146.164993 + 0.1 ** (26/1000) * 13"
   ]
  },
  {
   "cell_type": "code",
   "execution_count": 60,
   "metadata": {
    "scrolled": true
   },
   "outputs": [
    {
     "data": {
      "text/html": [
       "<div>\n",
       "<style scoped>\n",
       "    .dataframe tbody tr th:only-of-type {\n",
       "        vertical-align: middle;\n",
       "    }\n",
       "\n",
       "    .dataframe tbody tr th {\n",
       "        vertical-align: top;\n",
       "    }\n",
       "\n",
       "    .dataframe thead th {\n",
       "        text-align: right;\n",
       "    }\n",
       "</style>\n",
       "<table border=\"1\" class=\"dataframe\">\n",
       "  <thead>\n",
       "    <tr style=\"text-align: right;\">\n",
       "      <th></th>\n",
       "      <th>update_time</th>\n",
       "      <th>delta_t</th>\n",
       "      <th>valve_motion_state</th>\n",
       "      <th>water_level</th>\n",
       "      <th>water_level_reading</th>\n",
       "      <th>i2</th>\n",
       "      <th>i</th>\n",
       "      <th>error</th>\n",
       "      <th>d</th>\n",
       "      <th>d2</th>\n",
       "      <th>activation</th>\n",
       "      <th>to_move</th>\n",
       "    </tr>\n",
       "  </thead>\n",
       "  <tbody>\n",
       "    <tr>\n",
       "      <th>0</th>\n",
       "      <td>0</td>\n",
       "      <td>0</td>\n",
       "      <td>0</td>\n",
       "      <td>13</td>\n",
       "      <td>13.0</td>\n",
       "      <td>0.000000e+00</td>\n",
       "      <td>0.0</td>\n",
       "      <td>4.0</td>\n",
       "      <td>0.0</td>\n",
       "      <td>0.0</td>\n",
       "      <td>-4.000000e+00</td>\n",
       "      <td>-4</td>\n",
       "    </tr>\n",
       "    <tr>\n",
       "      <th>1</th>\n",
       "      <td>25</td>\n",
       "      <td>25</td>\n",
       "      <td>0</td>\n",
       "      <td>13</td>\n",
       "      <td>13.0</td>\n",
       "      <td>2.500000e+03</td>\n",
       "      <td>100.0</td>\n",
       "      <td>4.0</td>\n",
       "      <td>0.0</td>\n",
       "      <td>0.0</td>\n",
       "      <td>-6.600000e+00</td>\n",
       "      <td>-10</td>\n",
       "    </tr>\n",
       "    <tr>\n",
       "      <th>2</th>\n",
       "      <td>51</td>\n",
       "      <td>26</td>\n",
       "      <td>0</td>\n",
       "      <td>13</td>\n",
       "      <td>13.0</td>\n",
       "      <td>7.804000e+03</td>\n",
       "      <td>204.0</td>\n",
       "      <td>4.0</td>\n",
       "      <td>0.0</td>\n",
       "      <td>0.0</td>\n",
       "      <td>-1.200800e+01</td>\n",
       "      <td>-22</td>\n",
       "    </tr>\n",
       "    <tr>\n",
       "      <th>3</th>\n",
       "      <td>76</td>\n",
       "      <td>25</td>\n",
       "      <td>0</td>\n",
       "      <td>13</td>\n",
       "      <td>13.0</td>\n",
       "      <td>1.540400e+04</td>\n",
       "      <td>304.0</td>\n",
       "      <td>4.0</td>\n",
       "      <td>0.0</td>\n",
       "      <td>0.0</td>\n",
       "      <td>-1.970800e+01</td>\n",
       "      <td>-41</td>\n",
       "    </tr>\n",
       "    <tr>\n",
       "      <th>4</th>\n",
       "      <td>103</td>\n",
       "      <td>27</td>\n",
       "      <td>0</td>\n",
       "      <td>13</td>\n",
       "      <td>13.0</td>\n",
       "      <td>2.652800e+04</td>\n",
       "      <td>412.0</td>\n",
       "      <td>4.0</td>\n",
       "      <td>0.0</td>\n",
       "      <td>0.0</td>\n",
       "      <td>-3.094000e+01</td>\n",
       "      <td>-71</td>\n",
       "    </tr>\n",
       "    <tr>\n",
       "      <th>...</th>\n",
       "      <td>...</td>\n",
       "      <td>...</td>\n",
       "      <td>...</td>\n",
       "      <td>...</td>\n",
       "      <td>...</td>\n",
       "      <td>...</td>\n",
       "      <td>...</td>\n",
       "      <td>...</td>\n",
       "      <td>...</td>\n",
       "      <td>...</td>\n",
       "      <td>...</td>\n",
       "      <td>...</td>\n",
       "    </tr>\n",
       "    <tr>\n",
       "      <th>9995</th>\n",
       "      <td>260077</td>\n",
       "      <td>27</td>\n",
       "      <td>-1</td>\n",
       "      <td>13</td>\n",
       "      <td>13.0</td>\n",
       "      <td>1.352938e+11</td>\n",
       "      <td>1040308.0</td>\n",
       "      <td>4.0</td>\n",
       "      <td>0.0</td>\n",
       "      <td>0.0</td>\n",
       "      <td>-1.352949e+08</td>\n",
       "      <td>-3500</td>\n",
       "    </tr>\n",
       "    <tr>\n",
       "      <th>9996</th>\n",
       "      <td>260103</td>\n",
       "      <td>26</td>\n",
       "      <td>-1</td>\n",
       "      <td>13</td>\n",
       "      <td>13.0</td>\n",
       "      <td>1.353209e+11</td>\n",
       "      <td>1040412.0</td>\n",
       "      <td>4.0</td>\n",
       "      <td>0.0</td>\n",
       "      <td>0.0</td>\n",
       "      <td>-1.353219e+08</td>\n",
       "      <td>-3500</td>\n",
       "    </tr>\n",
       "    <tr>\n",
       "      <th>9997</th>\n",
       "      <td>260129</td>\n",
       "      <td>26</td>\n",
       "      <td>-1</td>\n",
       "      <td>13</td>\n",
       "      <td>13.0</td>\n",
       "      <td>1.353479e+11</td>\n",
       "      <td>1040516.0</td>\n",
       "      <td>4.0</td>\n",
       "      <td>0.0</td>\n",
       "      <td>0.0</td>\n",
       "      <td>-1.353490e+08</td>\n",
       "      <td>-3500</td>\n",
       "    </tr>\n",
       "    <tr>\n",
       "      <th>9998</th>\n",
       "      <td>260155</td>\n",
       "      <td>26</td>\n",
       "      <td>-1</td>\n",
       "      <td>13</td>\n",
       "      <td>13.0</td>\n",
       "      <td>1.353750e+11</td>\n",
       "      <td>1040620.0</td>\n",
       "      <td>4.0</td>\n",
       "      <td>0.0</td>\n",
       "      <td>0.0</td>\n",
       "      <td>-1.353760e+08</td>\n",
       "      <td>-3500</td>\n",
       "    </tr>\n",
       "    <tr>\n",
       "      <th>9999</th>\n",
       "      <td>260180</td>\n",
       "      <td>25</td>\n",
       "      <td>-1</td>\n",
       "      <td>13</td>\n",
       "      <td>13.0</td>\n",
       "      <td>1.354010e+11</td>\n",
       "      <td>1040720.0</td>\n",
       "      <td>4.0</td>\n",
       "      <td>0.0</td>\n",
       "      <td>0.0</td>\n",
       "      <td>-1.354020e+08</td>\n",
       "      <td>-3500</td>\n",
       "    </tr>\n",
       "  </tbody>\n",
       "</table>\n",
       "<p>10000 rows × 12 columns</p>\n",
       "</div>"
      ],
      "text/plain": [
       "      update_time  delta_t  valve_motion_state  water_level  \\\n",
       "0               0        0                   0           13   \n",
       "1              25       25                   0           13   \n",
       "2              51       26                   0           13   \n",
       "3              76       25                   0           13   \n",
       "4             103       27                   0           13   \n",
       "...           ...      ...                 ...          ...   \n",
       "9995       260077       27                  -1           13   \n",
       "9996       260103       26                  -1           13   \n",
       "9997       260129       26                  -1           13   \n",
       "9998       260155       26                  -1           13   \n",
       "9999       260180       25                  -1           13   \n",
       "\n",
       "      water_level_reading            i2          i  error    d   d2  \\\n",
       "0                    13.0  0.000000e+00        0.0    4.0  0.0  0.0   \n",
       "1                    13.0  2.500000e+03      100.0    4.0  0.0  0.0   \n",
       "2                    13.0  7.804000e+03      204.0    4.0  0.0  0.0   \n",
       "3                    13.0  1.540400e+04      304.0    4.0  0.0  0.0   \n",
       "4                    13.0  2.652800e+04      412.0    4.0  0.0  0.0   \n",
       "...                   ...           ...        ...    ...  ...  ...   \n",
       "9995                 13.0  1.352938e+11  1040308.0    4.0  0.0  0.0   \n",
       "9996                 13.0  1.353209e+11  1040412.0    4.0  0.0  0.0   \n",
       "9997                 13.0  1.353479e+11  1040516.0    4.0  0.0  0.0   \n",
       "9998                 13.0  1.353750e+11  1040620.0    4.0  0.0  0.0   \n",
       "9999                 13.0  1.354010e+11  1040720.0    4.0  0.0  0.0   \n",
       "\n",
       "        activation  to_move  \n",
       "0    -4.000000e+00       -4  \n",
       "1    -6.600000e+00      -10  \n",
       "2    -1.200800e+01      -22  \n",
       "3    -1.970800e+01      -41  \n",
       "4    -3.094000e+01      -71  \n",
       "...            ...      ...  \n",
       "9995 -1.352949e+08    -3500  \n",
       "9996 -1.353219e+08    -3500  \n",
       "9997 -1.353490e+08    -3500  \n",
       "9998 -1.353760e+08    -3500  \n",
       "9999 -1.354020e+08    -3500  \n",
       "\n",
       "[10000 rows x 12 columns]"
      ]
     },
     "metadata": {},
     "output_type": "display_data"
    }
   ],
   "source": [
    "import itertools\n",
    "it = itertools.islice(iter_readings(), 10000)\n",
    "df = pd.DataFrame(data=it)\n",
    "\n",
    "display(df)"
   ]
  },
  {
   "cell_type": "code",
   "execution_count": 21,
   "metadata": {},
   "outputs": [],
   "source": [
    "from matplotlib import pyplot as plt"
   ]
  },
  {
   "cell_type": "code",
   "execution_count": 22,
   "metadata": {},
   "outputs": [
    {
     "data": {
      "text/plain": [
       "Index(['update_time', 'delta_t', 'valve_motion_state', 'water_level',\n",
       "       'water_level_reading', 'i2', 'i', 'error', 'd', 'd2', 'activation'],\n",
       "      dtype='object')"
      ]
     },
     "execution_count": 22,
     "metadata": {},
     "output_type": "execute_result"
    }
   ],
   "source": [
    "df.columns"
   ]
  },
  {
   "cell_type": "code",
   "execution_count": 61,
   "metadata": {},
   "outputs": [
    {
     "data": {
      "image/png": "[encoded data removed]",
      "text/plain": [
       "<Figure size 432x288 with 1 Axes>"
      ]
     },
     "metadata": {
      "needs_background": "light"
     },
     "output_type": "display_data"
    }
   ],
   "source": [
    "ax = plt.gca()\n",
    "\n",
    "df.plot(kind='line',x='update_time',y=(x for x in df.columns if x != 'update_time'),ax=ax)\n",
    "\n",
    "plt.show()"
   ]
  },
  {
   "cell_type": "code",
   "execution_count": 62,
   "metadata": {},
   "outputs": [
    {
     "data": {
      "image/png": "[encoded data removed]",
      "text/plain": [
       "<Figure size 432x288 with 1 Axes>"
      ]
     },
     "metadata": {
      "needs_background": "light"
     },
     "output_type": "display_data"
    }
   ],
   "source": [
    "ax = plt.gca()\n",
    "\n",
    "df.plot(kind='line',x='update_time',y=(x for x in df.columns if x not in {'update_time', 'i2'}),ax=ax)\n",
    "\n",
    "plt.show()"
   ]
  },
  {
   "cell_type": "code",
   "execution_count": 63,
   "metadata": {},
   "outputs": [
    {
     "data": {
      "image/png": "[encoded data removed]",
      "text/plain": [
       "<Figure size 432x288 with 1 Axes>"
      ]
     },
     "metadata": {
      "needs_background": "light"
     },
     "output_type": "display_data"
    }
   ],
   "source": [
    "ax = plt.gca()\n",
    "\n",
    "df.plot(kind='line',x='update_time',y=(x for x in df.columns if x not in {'update_time', 'i2', 'activation'}),ax=ax)\n",
    "\n",
    "plt.show()"
   ]
  },
  {
   "cell_type": "code",
   "execution_count": 66,
   "metadata": {},
   "outputs": [
    {
     "data": {
      "image/png": "[encoded data removed]",
      "text/plain": [
       "<Figure size 432x288 with 1 Axes>"
      ]
     },
     "metadata": {
      "needs_background": "light"
     },
     "output_type": "display_data"
    }
   ],
   "source": [
    "ax = plt.gca()\n",
    "\n",
    "(df['activation'] + df['i2'] * 1.0e-3 + df['i'] * 1.0e-3).plot(kind='line', x=df['update_time'], ax=ax)\n",
    "#(df['activation']).plot(kind='line', x=df['update_time'], ax=ax)\n",
    "#(df['i2']).plot(kind='line', x=df['update_time'], ax=ax)\n",
    "#(df['i']).plot(kind='line', x=df['update_time'], ax=ax)\n",
    "\n",
    "plt.legend()\n",
    "plt.show()"
   ]
  },
  {
   "cell_type": "code",
   "execution_count": 67,
   "metadata": {},
   "outputs": [
    {
     "data": {
      "image/png": "[encoded data removed]",
      "text/plain": [
       "<Figure size 432x288 with 1 Axes>"
      ]
     },
     "metadata": {
      "needs_background": "light"
     },
     "output_type": "display_data"
    }
   ],
   "source": [
    "ax = plt.gca()\n",
    "\n",
    "(df['valve_motion_state']).plot(kind='line', x=df['update_time'], ax=ax)\n",
    "\n",
    "plt.show()"
   ]
  },
  {
   "cell_type": "code",
   "execution_count": null,
   "metadata": {},
   "outputs": [],
   "source": []
  }
 ],
 "metadata": {
  "kernelspec": {
   "display_name": "Python 3",
   "language": "python",
   "name": "python3"
  },
  "language_info": {
   "codemirror_mode": {
    "name": "ipython",
    "version": 3
   },
   "file_extension": ".py",
   "mimetype": "text/x-python",
   "name": "python",
   "nbconvert_exporter": "python",
   "pygments_lexer": "ipython3",
   "version": "3.7.0"
  }
 },
 "nbformat": 4,
 "nbformat_minor": 2
}
